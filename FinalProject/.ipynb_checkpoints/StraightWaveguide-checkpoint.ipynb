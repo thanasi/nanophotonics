{
 "cells": [
  {
   "cell_type": "code",
   "execution_count": 1,
   "metadata": {
    "collapsed": false
   },
   "outputs": [
    {
     "name": "stderr",
     "output_type": "stream",
     "text": [
      "/Users/thanasi/anaconda/lib/python3.4/site-packages/matplotlib/__init__.py:872: UserWarning: axes.color_cycle is deprecated and replaced with axes.prop_cycle; please use the latter.\n",
      "  warnings.warn(self.msg_depr % (key, alt_key))\n"
     ]
    }
   ],
   "source": [
    "%matplotlib inline\n",
    "import matplotlib as mpl\n",
    "from matplotlib import pyplot as plt\n",
    "from matplotlib import colors"
   ]
  },
  {
   "cell_type": "code",
   "execution_count": 2,
   "metadata": {
    "collapsed": true
   },
   "outputs": [],
   "source": [
    "import numpy as np\n",
    "import pandas as pd\n",
    "import scipy as sp\n",
    "import palettable as pbl\n",
    "import h5py"
   ]
  },
  {
   "cell_type": "code",
   "execution_count": 3,
   "metadata": {
    "collapsed": true
   },
   "outputs": [],
   "source": [
    "from isanaht import plot_helper as ph"
   ]
  },
  {
   "cell_type": "code",
   "execution_count": 4,
   "metadata": {
    "collapsed": true
   },
   "outputs": [],
   "source": [
    "cmap7 = pbl.colorbrewer.get_map('Set1', 'Qualitative', 7)\n",
    "cmap11 = pbl.colorbrewer.get_map('Paired', 'Qualitative', 12)\n",
    "c11s = cmap11.hex_colors\n",
    "c11s = c11s[1::2] + c11s[::2] # unpair them"
   ]
  },
  {
   "cell_type": "code",
   "execution_count": 5,
   "metadata": {
    "collapsed": true
   },
   "outputs": [],
   "source": [
    "mpl.rc('image', cmap='coolwarm', interpolation='nearest')\n",
    "mpl.rc('font', family='STIXGeneral')\n",
    "mpl.rc('legend', fancybox=False, numpoints=1, markerscale=1.5, borderaxespad=0.5, fontsize=16)\n",
    "mpl.rc('figure', figsize=(8,8))\n",
    "mpl.rc('axes', linewidth=1.5, edgecolor='k', labelsize=22, grid=False, axisbelow=True,\n",
    "        prop_cycle= mpl.cycler(color=c11s))\n",
    "mpl.rc('grid', linewidth=1)\n",
    "mpl.rc('ytick.major', size=5, width=1.5, pad=8)\n",
    "mpl.rc('xtick.major', size=5, width=1.5, pad=8)\n",
    "mpl.rc('xtick', labelsize=18)\n",
    "mpl.rc('ytick', labelsize=18)\n",
    "mpl.rc('lines', linewidth=2)"
   ]
  },
  {
   "cell_type": "code",
   "execution_count": null,
   "metadata": {
    "collapsed": true
   },
   "outputs": [],
   "source": [
    "with h5py.File('', 'r') as eps_file:\n",
    "    epsilon = eps_file[\"data\"].value\n",
    "    X_max = eps_file[\"lattice vectors\"].value[0,0] / 2\n",
    "    nX = epsilon.shape[0]\n",
    "    X = np.mgrid[-X_max:X_max:1j*nX]"
   ]
  }
 ],
 "metadata": {
  "kernelspec": {
   "display_name": "Python 3",
   "language": "python",
   "name": "python3"
  },
  "language_info": {
   "codemirror_mode": {
    "name": "ipython",
    "version": 3
   },
   "file_extension": ".py",
   "mimetype": "text/x-python",
   "name": "python",
   "nbconvert_exporter": "python",
   "pygments_lexer": "ipython3",
   "version": "3.4.4"
  }
 },
 "nbformat": 4,
 "nbformat_minor": 0
}
