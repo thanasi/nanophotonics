{
 "cells": [
  {
   "cell_type": "code",
   "execution_count": 2,
   "metadata": {
    "collapsed": false
   },
   "outputs": [
    {
     "name": "stderr",
     "output_type": "stream",
     "text": [
      "/Users/thanasi/anaconda/lib/python3.4/site-packages/matplotlib/__init__.py:872: UserWarning: axes.color_cycle is deprecated and replaced with axes.prop_cycle; please use the latter.\n",
      "  warnings.warn(self.msg_depr % (key, alt_key))\n"
     ]
    }
   ],
   "source": [
    "%matplotlib inline\n",
    "import matplotlib as mpl\n",
    "from matplotlib import pyplot as plt\n",
    "from matplotlib import colors"
   ]
  },
  {
   "cell_type": "code",
   "execution_count": 3,
   "metadata": {
    "collapsed": true
   },
   "outputs": [],
   "source": [
    "import os\n",
    "import fnmatch\n",
    "import numpy as np\n",
    "import pandas as pd\n",
    "import scipy as sp\n",
    "import palettable as pbl\n",
    "import h5py"
   ]
  },
  {
   "cell_type": "code",
   "execution_count": 4,
   "metadata": {
    "collapsed": true
   },
   "outputs": [],
   "source": [
    "from isanaht import plot_helper as ph"
   ]
  },
  {
   "cell_type": "code",
   "execution_count": 5,
   "metadata": {
    "collapsed": true
   },
   "outputs": [],
   "source": [
    "cmap7 = pbl.colorbrewer.get_map('Set1', 'Qualitative', 7)\n",
    "cmap11 = pbl.colorbrewer.get_map('Paired', 'Qualitative', 12)\n",
    "c11s = cmap11.hex_colors\n",
    "c11s = c11s[1::2] + c11s[::2] # unpair them"
   ]
  },
  {
   "cell_type": "code",
   "execution_count": 6,
   "metadata": {
    "collapsed": true
   },
   "outputs": [],
   "source": [
    "mpl.rc('image', cmap='coolwarm', interpolation='nearest')\n",
    "mpl.rc('font', family='STIXGeneral')\n",
    "mpl.rc('legend', fancybox=False, numpoints=1, markerscale=1.5, borderaxespad=0.5, fontsize=16)\n",
    "mpl.rc('figure', figsize=(8,8))\n",
    "mpl.rc('axes', linewidth=1.5, edgecolor='k', labelsize=22, grid=False, axisbelow=True,\n",
    "        prop_cycle= mpl.cycler(color=c11s))\n",
    "mpl.rc('grid', linewidth=1)\n",
    "mpl.rc('ytick.major', size=5, width=1.5, pad=8)\n",
    "mpl.rc('xtick.major', size=5, width=1.5, pad=8)\n",
    "mpl.rc('xtick', labelsize=18)\n",
    "mpl.rc('ytick', labelsize=18)\n",
    "mpl.rc('lines', linewidth=2)"
   ]
  },
  {
   "cell_type": "markdown",
   "metadata": {},
   "source": [
    "---"
   ]
  },
  {
   "cell_type": "code",
   "execution_count": 57,
   "metadata": {
    "collapsed": false
   },
   "outputs": [],
   "source": [
    "eps_lo = 1\n",
    "eps_hi = 12\n",
    "omega0 = 0.4\n",
    "lmbda0 = 2*np.pi / omega0\n",
    "lmbda_hi = lmbda0 / eps_hi\n",
    "\n",
    "sx = 16\n",
    "sy = 8"
   ]
  },
  {
   "cell_type": "code",
   "execution_count": 58,
   "metadata": {
    "collapsed": false
   },
   "outputs": [
    {
     "name": "stdout",
     "output_type": "stream",
     "text": [
      "1.3089969389957472\n"
     ]
    }
   ],
   "source": [
    "print(lmbda_hi)"
   ]
  },
  {
   "cell_type": "markdown",
   "metadata": {},
   "source": [
    "---\n"
   ]
  },
  {
   "cell_type": "code",
   "execution_count": 59,
   "metadata": {
    "collapsed": false
   },
   "outputs": [],
   "source": [
    "X_max = sx // 2\n",
    "X_min = - X_max\n",
    "Y_max = sy //2\n",
    "Y_min =  - Y_max\n",
    "\n",
    "\n",
    "with h5py.File('./out/straight-waveguide-eps-000000.00.h5', 'r') as eps_file:\n",
    "    epsilon = eps_file[\"eps\"].value.T\n",
    "    nX = epsilon.shape[1]\n",
    "    X = np.mgrid[-X_max:X_max:1j*nX]"
   ]
  },
  {
   "cell_type": "code",
   "execution_count": 60,
   "metadata": {
    "collapsed": false
   },
   "outputs": [
    {
     "data": {
      "image/png": "[encoded data removed]",
      "text/plain": [
       "<matplotlib.figure.Figure at 0x113d3d2b0>"
      ]
     },
     "metadata": {},
     "output_type": "display_data"
    }
   ],
   "source": [
    "fig,ax = plt.subplots()\n",
    "ax.imshow(epsilon, extent=(X_min,X_max, Y_min, Y_max), cmap=plt.cm.gray);\n",
    "ax.set_aspect('equal');\n",
    "ax.set_xticks([X_min, 0, X_max]);\n",
    "ax.set_yticks([Y_min, 0, Y_max]);"
   ]
  },
  {
   "cell_type": "code",
   "execution_count": 61,
   "metadata": {
    "collapsed": true
   },
   "outputs": [],
   "source": [
    "files = os.listdir(\"./out/\")\n",
    "files = fnmatch.filter(files, \"*-hz-*.h5\")"
   ]
  },
  {
   "cell_type": "code",
   "execution_count": 62,
   "metadata": {
    "collapsed": true
   },
   "outputs": [],
   "source": [
    "hz_min = 0\n",
    "hz_max = 0"
   ]
  },
  {
   "cell_type": "code",
   "execution_count": 63,
   "metadata": {
    "collapsed": false
   },
   "outputs": [],
   "source": [
    "for fn in files:\n",
    "    timestamp = fn.split(\"-\")[-1][:-3]\n",
    "    with h5py.File('./out/' + fn, 'r') as field_data:\n",
    "        hz = field_data[\"hz\"].value.T\n",
    "        hz_min = min(hz_min, hz.min())\n",
    "        hz_max = max(hz_max, hz.max())"
   ]
  },
  {
   "cell_type": "code",
   "execution_count": 64,
   "metadata": {
    "collapsed": false
   },
   "outputs": [
    {
     "name": "stdout",
     "output_type": "stream",
     "text": [
      "11.4739931405\n"
     ]
    }
   ],
   "source": [
    "hz_lim = max(abs(hz_min), abs(hz_max))\n",
    "print(hz_lim)"
   ]
  },
  {
   "cell_type": "code",
   "execution_count": 54,
   "metadata": {
    "collapsed": false
   },
   "outputs": [],
   "source": [
    "fig,ax = plt.subplots(frameon=False)\n",
    "ax.contour(epsilon, [5], colors='k', extent=(X_min, X_max, Y_min, Y_max))\n",
    "axim = ax.imshow(epsilon, extent=(X_min,X_max, Y_min, Y_max), vmin=-hz_lim, vmax=hz_lim, cmap=plt.cm.RdBu);\n",
    "ax.set_aspect('equal');\n",
    "ax.xaxis.set_visible(False);\n",
    "ax.yaxis.set_visible(False);\n",
    "ax.axis('off');\n",
    "fig.tight_layout()\n",
    "\n",
    "ns = 1\n",
    "for fn in files[::ns]:\n",
    "    timestamp = fn.split(\"-\")[-1][:-3]\n",
    "    with h5py.File('./out/' + fn, 'r') as field_data:\n",
    "        hz = field_data[\"hz\"].value.T\n",
    "        axim.set_data(hz)\n",
    "        fig.savefig(\"./out/png/hz-%s.png\" % timestamp, bbox_inches='tight', pad_inches=0)\n",
    "\n",
    "        \n",
    "plt.close(fig)"
   ]
  },
  {
   "cell_type": "code",
   "execution_count": 55,
   "metadata": {
    "collapsed": true
   },
   "outputs": [],
   "source": [
    "!cd out/png/ && convert ./*.png hz-out.gif && cd ../.."
   ]
  },
  {
   "cell_type": "code",
   "execution_count": 65,
   "metadata": {
    "collapsed": false
   },
   "outputs": [],
   "source": [
    "fluxes = pd.read_csv('./out/straight-waveguide.fluxes.out',\n",
    "                     header=None, index_col=0, usecols=[1,2,3,4,5],\n",
    "                     names=[\"freq\", \"top\", \"right\",\"bottom\",\"left\"])"
   ]
  },
  {
   "cell_type": "code",
   "execution_count": 66,
   "metadata": {
    "collapsed": false
   },
   "outputs": [],
   "source": [
    "# fluxes"
   ]
  },
  {
   "cell_type": "code",
   "execution_count": 73,
   "metadata": {
    "collapsed": false
   },
   "outputs": [
    {
     "data": {
      "text/plain": [
       "<matplotlib.lines.Line2D at 0x114ec3748>"
      ]
     },
     "execution_count": 73,
     "metadata": {},
     "output_type": "execute_result"
    },
    {
     "data": {
      "image/png": "[encoded data removed]",
      "text/plain": [
       "<matplotlib.figure.Figure at 0x113483198>"
      ]
     },
     "metadata": {},
     "output_type": "display_data"
    }
   ],
   "source": [
    "flx2 = np.abs(fluxes)\n",
    "fig,ax = plt.subplots()\n",
    "# ax.plot(fluxes, 'o-');\n",
    "# ax.set_ylim(0,None);\n",
    "# ax.axhline(0.25, ls='--', c='k');\n",
    "flx2.plot(ax = ax)\n",
    "ax.axvline(omega0, c='k')"
   ]
  },
  {
   "cell_type": "code",
   "execution_count": 69,
   "metadata": {
    "collapsed": false
   },
   "outputs": [],
   "source": [
    "ratio = (flx2[\"top\"] + flx2[\"bottom\"]) / (flx2.sum(axis=1))\n",
    "# ratio.loc[np.isclose(flx2.sum(axis=1), 0, atol=1e-3)] = np.nan"
   ]
  },
  {
   "cell_type": "code",
   "execution_count": 70,
   "metadata": {
    "collapsed": false
   },
   "outputs": [],
   "source": [
    "# flx2.sum(axis=1)"
   ]
  },
  {
   "cell_type": "code",
   "execution_count": 71,
   "metadata": {
    "collapsed": false
   },
   "outputs": [
    {
     "name": "stdout",
     "output_type": "stream",
     "text": [
      "0.350505050505\n"
     ]
    },
    {
     "data": {
      "image/png": "[encoded data removed]",
      "text/plain": [
       "<matplotlib.figure.Figure at 0x1121abba8>"
      ]
     },
     "metadata": {},
     "output_type": "display_data"
    }
   ],
   "source": [
    "fig,ax = plt.subplots();\n",
    "ratio.plot(ax=ax, lw=3);\n",
    "omega1 = flx2.index[np.argmax(ratio.values)]\n",
    "ax.axvline(omega1, c='k', ls='--',zorder=-3 );\n",
    "ax.axvline(0.4528543062578309, c='k')\n",
    "print(omega1)"
   ]
  },
  {
   "cell_type": "code",
   "execution_count": null,
   "metadata": {
    "collapsed": true
   },
   "outputs": [],
   "source": []
  }
 ],
 "metadata": {
  "kernelspec": {
   "display_name": "Python 3",
   "language": "python",
   "name": "python3"
  },
  "language_info": {
   "codemirror_mode": {
    "name": "ipython",
    "version": 3
   },
   "file_extension": ".py",
   "mimetype": "text/x-python",
   "name": "python",
   "nbconvert_exporter": "python",
   "pygments_lexer": "ipython3",
   "version": "3.4.4"
  }
 },
 "nbformat": 4,
 "nbformat_minor": 0
}
