{
 "cells": [
  {
   "cell_type": "code",
   "execution_count": 1,
   "metadata": {
    "collapsed": false
   },
   "outputs": [
    {
     "name": "stderr",
     "output_type": "stream",
     "text": [
      "/Users/thanasi/anaconda/lib/python3.4/site-packages/matplotlib/__init__.py:872: UserWarning: axes.color_cycle is deprecated and replaced with axes.prop_cycle; please use the latter.\n",
      "  warnings.warn(self.msg_depr % (key, alt_key))\n"
     ]
    }
   ],
   "source": [
    "%matplotlib inline\n",
    "import matplotlib as mpl\n",
    "from matplotlib import pyplot as plt\n",
    "from matplotlib import colors"
   ]
  },
  {
   "cell_type": "code",
   "execution_count": 2,
   "metadata": {
    "collapsed": true
   },
   "outputs": [],
   "source": [
    "import os\n",
    "import fnmatch\n",
    "import numpy as np\n",
    "import pandas as pd\n",
    "import scipy as sp\n",
    "import palettable as pbl\n",
    "import h5py"
   ]
  },
  {
   "cell_type": "code",
   "execution_count": 3,
   "metadata": {
    "collapsed": true
   },
   "outputs": [],
   "source": [
    "from isanaht import plot_helper as ph"
   ]
  },
  {
   "cell_type": "code",
   "execution_count": 4,
   "metadata": {
    "collapsed": true
   },
   "outputs": [],
   "source": [
    "cmap7 = pbl.colorbrewer.get_map('Set1', 'Qualitative', 7)\n",
    "cmap11 = pbl.colorbrewer.get_map('Paired', 'Qualitative', 12)\n",
    "c11s = cmap11.hex_colors\n",
    "c11s = c11s[1::2] + c11s[::2] # unpair them"
   ]
  },
  {
   "cell_type": "code",
   "execution_count": 5,
   "metadata": {
    "collapsed": true
   },
   "outputs": [],
   "source": [
    "mpl.rc('image', cmap='coolwarm', interpolation='nearest')\n",
    "mpl.rc('font', family='STIXGeneral')\n",
    "mpl.rc('legend', fancybox=False, numpoints=1, markerscale=1.5, borderaxespad=0.5, fontsize=16)\n",
    "mpl.rc('figure', figsize=(8,8))\n",
    "mpl.rc('axes', linewidth=1.5, edgecolor='k', labelsize=22, grid=False, axisbelow=True,\n",
    "        prop_cycle= mpl.cycler(color=c11s))\n",
    "mpl.rc('grid', linewidth=1)\n",
    "mpl.rc('ytick.major', size=5, width=1.5, pad=8)\n",
    "mpl.rc('xtick.major', size=5, width=1.5, pad=8)\n",
    "mpl.rc('xtick', labelsize=18)\n",
    "mpl.rc('ytick', labelsize=18)\n",
    "mpl.rc('lines', linewidth=2)"
   ]
  },
  {
   "cell_type": "markdown",
   "metadata": {},
   "source": [
    "---"
   ]
  },
  {
   "cell_type": "code",
   "execution_count": 7,
   "metadata": {
    "collapsed": true
   },
   "outputs": [],
   "source": [
    "eps_lo = 1\n",
    "eps_hi = 12\n",
    "omega0 = 0.25\n",
    "lmbda0 = 2*np.pi / omega0\n",
    "lmbda_hi = lmbda0 / eps_hi\n",
    "\n",
    "sx = 1\n",
    "sy = 8"
   ]
  },
  {
   "cell_type": "code",
   "execution_count": 10,
   "metadata": {
    "collapsed": true
   },
   "outputs": [],
   "source": [
    "X_max = sx / 2\n",
    "X_min = - X_max\n",
    "Y_max = sy / 2\n",
    "Y_min =  - Y_max\n",
    "\n",
    "\n",
    "with h5py.File('./out/straight-waveguide-leakymodes-eps-000000.00.h5', 'r') as eps_file:\n",
    "    epsilon = eps_file[\"eps\"].value.T\n",
    "    nX = epsilon.shape[1]\n",
    "    X = np.mgrid[-X_max:X_max:1j*nX]"
   ]
  },
  {
   "cell_type": "code",
   "execution_count": 12,
   "metadata": {
    "collapsed": false
   },
   "outputs": [
    {
     "data": {
      "image/png": "[encoded data removed]",
      "text/plain": [
       "<matplotlib.figure.Figure at 0x1104d86d8>"
      ]
     },
     "metadata": {},
     "output_type": "display_data"
    }
   ],
   "source": [
    "fig,ax = plt.subplots()\n",
    "ax.imshow(epsilon, extent=(X_min,X_max, Y_min, Y_max), cmap=plt.cm.gray);\n",
    "ax.set_aspect('equal');\n",
    "ax.set_xticks([X_min, X_max]);\n",
    "ax.set_yticks([Y_min, 0, Y_max]);"
   ]
  },
  {
   "cell_type": "code",
   "execution_count": 71,
   "metadata": {
    "collapsed": false
   },
   "outputs": [],
   "source": [
    "freqs_re = pd.read_csv('./out.band_diag1/fre.out', header=None, index_col=0, usecols=range(2,11))\n",
    "freqs_im = pd.read_csv('./out.band_diag1/fim.out', header=None, index_col=0, usecols=range(2,11))"
   ]
  },
  {
   "cell_type": "code",
   "execution_count": 72,
   "metadata": {
    "collapsed": false
   },
   "outputs": [],
   "source": [
    "# freqs_re"
   ]
  },
  {
   "cell_type": "code",
   "execution_count": 73,
   "metadata": {
    "collapsed": false
   },
   "outputs": [
    {
     "data": {
      "text/plain": [
       "<matplotlib.text.Text at 0x112649fd0>"
      ]
     },
     "execution_count": 73,
     "metadata": {},
     "output_type": "execute_result"
    },
    {
     "data": {
      "image/png": "[encoded data removed]",
      "text/plain": [
       "<matplotlib.figure.Figure at 0x114b0a3c8>"
      ]
     },
     "metadata": {},
     "output_type": "display_data"
    }
   ],
   "source": [
    "fig,ax = plt.subplots()\n",
    "freqs_re.plot(ax=ax, c='k', marker='o', linestyle='', legend=None)\n",
    "k0 = [0,0.5]\n",
    "ax.plot(k0,k0,c='k')\n",
    "ax.fill_betweenx(k0, k0, facecolor='#cccccc', zorder=-1)\n",
    "ax.axhline(0.4528543062578309, c='k', lw=3)\n",
    "\n",
    "ax.set_xlabel(\"$k_x a / (2 \\pi)$\")\n",
    "ax.set_ylabel(\"$\\omega a / (2 \\pi c)$\")"
   ]
  },
  {
   "cell_type": "code",
   "execution_count": null,
   "metadata": {
    "collapsed": true
   },
   "outputs": [],
   "source": []
  }
 ],
 "metadata": {
  "kernelspec": {
   "display_name": "Python 3",
   "language": "python",
   "name": "python3"
  },
  "language_info": {
   "codemirror_mode": {
    "name": "ipython",
    "version": 3
   },
   "file_extension": ".py",
   "mimetype": "text/x-python",
   "name": "python",
   "nbconvert_exporter": "python",
   "pygments_lexer": "ipython3",
   "version": "3.4.4"
  }
 },
 "nbformat": 4,
 "nbformat_minor": 0
}
